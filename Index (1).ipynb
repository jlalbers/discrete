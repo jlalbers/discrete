{
 "cells": [
  {
   "cell_type": "markdown",
   "metadata": {},
   "source": [
    "# Welcome to Jupyter!"
   ]
  },
  {
   "cell_type": "code",
   "execution_count": 42,
   "metadata": {},
   "outputs": [],
   "source": [
    "def calculate_day(year,month,day): \n",
    "    \n",
    "    if year >= 1901: #Checks to see if the year is 1901 or later\n",
    "        year_shift = 0 #Initializes year shift variable\n",
    "        i = 1901 #Initializes counting variable at the year 1901 for while loop\n",
    "        \n",
    "        while i < year: #Adds the appropriate year shift for every year between 1901 and the entered year\n",
    "            if i % 4 == 0: year_shift = year_shift + 2 #Adds 2 days to the year shift if the year is a leap year\n",
    "            else: year_shift = year_shift + 1 #Adds 1 day to the year shift if the year is not a leap year\n",
    "            i = i + 1\n",
    "            \n",
    "    else: return \"ERROR\" #Returns an error if the entered year is earlier than 1901\n",
    "    \n",
    "    if year % 4 != 0: #Adds the day shift for the entered month for a non-leap year\n",
    "        if month==1: shift=0\n",
    "        elif month==2: shift=3\n",
    "        elif month==3: shift=3\n",
    "        elif month==4: shift=6\n",
    "        elif month==5: shift=1\n",
    "        elif month==6: shift=4\n",
    "        elif month==7: shift=6\n",
    "        elif month==8: shift=2\n",
    "        elif month==9: shift=5\n",
    "        elif month==10: shift=0\n",
    "        elif month==11: shift=3\n",
    "        elif month==12: shift=5\n",
    "        else: return \"ERROR\" \n",
    "        \n",
    "    else: #Adds the day shift for the entered month for a leap year\n",
    "        if month==1: shift=0\n",
    "        elif month==2: shift=3\n",
    "        elif month==3: shift=4\n",
    "        elif month==4: shift=0\n",
    "        elif month==5: shift=2\n",
    "        elif month==6: shift=5\n",
    "        elif month==7: shift=0\n",
    "        elif month==8: shift=3\n",
    "        elif month==9: shift=6\n",
    "        elif month==10: shift=1\n",
    "        elif month==11: shift=4\n",
    "        elif month==12: shift=6\n",
    "        else: return \"ERROR\" \n",
    "        \n",
    "    if day > 31: return \"ERROR\"\n",
    "        \n",
    "    mytotal = day + shift + year_shift\n",
    "        \n",
    "    remainder = mytotal % 7\n",
    "    \n",
    "    if remainder==0: return \"Monday\"\n",
    "    elif remainder==1: return \"Tuesday\"\n",
    "    elif remainder==2: return \"Wednesday\"\n",
    "    elif remainder==3: return \"Thursday\"\n",
    "    elif remainder==4: return \"Friday\"\n",
    "    elif remainder==5: return \"Saturday\"\n",
    "    elif remainder==6: return \"Sunday\"\n",
    "    else: return \"ERROR\""
   ]
  },
  {
   "cell_type": "code",
   "execution_count": 46,
   "metadata": {},
   "outputs": [
    {
     "data": {
      "text/plain": [
       "'Thursday'"
      ]
     },
     "execution_count": 46,
     "metadata": {},
     "output_type": "execute_result"
    }
   ],
   "source": [
    "calculate_day(1957,7,4)"
   ]
  },
  {
   "cell_type": "code",
   "execution_count": null,
   "metadata": {},
   "outputs": [],
   "source": []
  }
 ],
 "metadata": {
  "kernelspec": {
   "display_name": "Python 3",
   "language": "python",
   "name": "python3"
  },
  "language_info": {
   "codemirror_mode": {
    "name": "ipython",
    "version": 3
   },
   "file_extension": ".py",
   "mimetype": "text/x-python",
   "name": "python",
   "nbconvert_exporter": "python",
   "pygments_lexer": "ipython3",
   "version": "3.6.11"
  }
 },
 "nbformat": 4,
 "nbformat_minor": 2
}
